{
 "cells": [
  {
   "cell_type": "code",
   "execution_count": 17,
   "id": "53e40d18",
   "metadata": {},
   "outputs": [],
   "source": [
    "import random"
   ]
  },
  {
   "cell_type": "code",
   "execution_count": 46,
   "id": "c0e63fe6",
   "metadata": {},
   "outputs": [],
   "source": [
    "drops = {1301 :\n",
    "    {\n",
    "        \n",
    "        \"name\" : \"Shawarma\",\n",
    "        \"type\" : \"Sword\",\n",
    "        \"star\" : 3,\n",
    "        \"elem\" : \"na\",\n",
    "        \"desc\" : \" a shawarma from a food truck. you can hit someone with it\"\n",
    "    }, 1401:\n",
    "    \n",
    "        {\n",
    "       \n",
    "        \"name\" : \"Back up Shawarma\",\n",
    "        \"type\" : \"Sword\",\n",
    "        \"star\" : 4,\n",
    "        \"elem\" : \"na\",\n",
    "        \"desc\" : \" a shawarma taken out of a bag, still in its shop's packing. you shudder at where it has been\"\n",
    "    }, 1501:\n",
    "        {\n",
    "        \n",
    "        \"name\" : \"2 Shawarmas\",\n",
    "        \"type\" : \"Sword\",\n",
    "        \"star\" : 5,\n",
    "        \"elem\" : \"na\",\n",
    "        \"desc\" : \" bet you didn't see that coming \"\n",
    "    }, 1302:\n",
    "        {\n",
    "        \n",
    "        \"name\" : \"burnt water\",\n",
    "        \"type\" : \"catalyst\",\n",
    "        \"star\" : 3,\n",
    "        \"elem\" : \"na\",\n",
    "        \"desc\" : \" NAH BRO IM OUT HOW  \"\n",
    "    }, 1303:\n",
    "        {\n",
    "        \n",
    "        \"name\" : \"french fries\",\n",
    "        \"type\" : \"polearm\",\n",
    "        \"star\" : 3,\n",
    "        \"elem\" : \"na\",\n",
    "        \"desc\" : \" how tf are you stabbing people with a fr- nvm just dont give me your food ever \"\n",
    "    }, 1402:\n",
    "        {\n",
    "        \n",
    "        \"name\" : \"KFC Leg piece\",\n",
    "        \"type\" : \"claymore\",\n",
    "        \"star\" : 4,\n",
    "        \"elem\" : \"na\",\n",
    "        \"desc\" : \" Id say dont play with ur food but like what\"\n",
    "    },2501:\n",
    "        {\n",
    "        \n",
    "        \"name\" : \"saria\",\n",
    "        \"type\" : \"bow\",\n",
    "        \"star\" : 5,\n",
    "        \"elem\" : \"Electro\",\n",
    "        \"desc\" : \" i legit dont know what im doing\"\n",
    "    },2502:\n",
    "        {\n",
    "        \n",
    "        \"name\" : \"slope\",\n",
    "        \"type\" : \"catalyst\",\n",
    "        \"star\" : 5,\n",
    "        \"elem\" : \"Dendro\",\n",
    "        \"desc\" : \" zzz..... \"\n",
    "    },2503:\n",
    "        {\n",
    "        \n",
    "        \"name\" : \"guci\",\n",
    "        \"type\" : \"sword\",\n",
    "        \"star\" : 5,\n",
    "        \"elem\" : \"pyro\",\n",
    "        \"desc\" : \" 'saki you should have made me a s i x star' \"\n",
    "    }, 2401:\n",
    "        {\n",
    "        \n",
    "        \"name\" : \"naku fluke\",\n",
    "        \"type\" : \"catalyst\",\n",
    "        \"star\" : 4,\n",
    "        \"elem\" : \"pyro\",\n",
    "        \"desc\" : \" is a cat. but like high. help \"\n",
    "    },2402:\n",
    "        {\n",
    "        \n",
    "        \"name\" : \"flute\",\n",
    "        \"type\" : \"catalyst\",\n",
    "        \"star\" : 4,\n",
    "        \"elem\" : \"pyro\",\n",
    "        \"desc\" : \" achievements in life involve burning water \"\n",
    "    },0:\n",
    "        {\n",
    "        \n",
    "        \"name\" : \"Bag\",\n",
    "        \"type\" : \"Item\",\n",
    "        \"star\" : -1,\n",
    "        \"elem\" : \"na\",\n",
    "        \"desc\" : \" a nice thing to hold other things using \"\n",
    "    },\n",
    "           }"
   ]
  },
  {
   "cell_type": "code",
   "execution_count": 47,
   "id": "653a730d",
   "metadata": {},
   "outputs": [
    {
     "name": "stdout",
     "output_type": "stream",
     "text": [
      "Shawarma\n",
      "Back up Shawarma\n",
      "2 Shawarmas\n",
      "burnt water\n",
      "french fries\n",
      "KFC Leg piece\n",
      "saria\n",
      "slope\n",
      "guci\n",
      "naku fluke\n",
      "flute\n",
      "Bag\n"
     ]
    }
   ],
   "source": [
    "for i in drops:\n",
    "    print(drops[i][\"name\"])\n"
   ]
  },
  {
   "cell_type": "code",
   "execution_count": 48,
   "id": "f1e65073",
   "metadata": {},
   "outputs": [],
   "source": [
    "def get_star(n):\n",
    "    out = \"\"\n",
    "    for i in range(5):\n",
    "        if i<n:\n",
    "            out = out + \"★\"\n",
    "        else:\n",
    "            out = out + \" \"\n",
    "    return out"
   ]
  },
  {
   "cell_type": "code",
   "execution_count": 21,
   "id": "2d152bde",
   "metadata": {},
   "outputs": [],
   "source": [
    "def roll(n,desc = False):\n",
    "    for i in range(n):\n",
    "        star = random.choices((3,4,5),weights =(90,16,4))[0]\n",
    "        while True:\n",
    "            item = random.choices(list(drops.keys()))[0]\n",
    "            if drops[item][\"star\"]== star:\n",
    "                break\n",
    "        print(get_star(drops[item][\"star\"]),\" \",drops[item][\"name\"])\n",
    "        if desc:\n",
    "            print(drops[item][\"desc\"])\n",
    "            print(\" \")\n",
    "        "
   ]
  },
  {
   "cell_type": "markdown",
   "id": "ef3f21c8",
   "metadata": {},
   "source": [
    "## Inventory system"
   ]
  },
  {
   "cell_type": "code",
   "execution_count": 22,
   "id": "0ecbe660",
   "metadata": {},
   "outputs": [],
   "source": [
    "inv = [{\"uid\" : 0,\"count\": 1,\"type\" : \"gadget\" , \"meta\" : 0}]"
   ]
  },
  {
   "cell_type": "code",
   "execution_count": 49,
   "id": "f412d465",
   "metadata": {},
   "outputs": [],
   "source": [
    "def inv_list():\n",
    "    for item in inv:\n",
    "        --rint(item[\"uid\"])\n",
    "        print(drops[item[\"uid\"]][\"name\"])"
   ]
  },
  {
   "cell_type": "code",
   "execution_count": 50,
   "id": "075868eb",
   "metadata": {},
   "outputs": [
    {
     "name": "stdout",
     "output_type": "stream",
     "text": [
      "★★★     burnt water\n",
      "★★★     burnt water\n",
      "★★★     burnt water\n",
      "★★★     burnt water\n",
      "★★★★    KFC Leg piece\n",
      "★★★     burnt water\n",
      "★★★     Shawarma\n",
      "★★★     french fries\n",
      "★★★     Shawarma\n",
      "★★★     Shawarma\n"
     ]
    }
   ],
   "source": [
    "roll(10)"
   ]
  },
  {
   "cell_type": "code",
   "execution_count": 51,
   "id": "86eda4ed",
   "metadata": {},
   "outputs": [
    {
     "name": "stdout",
     "output_type": "stream",
     "text": [
      "★★★★    flute\n",
      " achievements in life involve burning water \n",
      " \n",
      "★★★     burnt water\n",
      " NAH BRO IM OUT HOW  \n",
      " \n",
      "★★★     burnt water\n",
      " NAH BRO IM OUT HOW  \n",
      " \n",
      "★★★★    flute\n",
      " achievements in life involve burning water \n",
      " \n",
      "★★★     burnt water\n",
      " NAH BRO IM OUT HOW  \n",
      " \n",
      "★★★★★   slope\n",
      " zzz..... \n",
      " \n",
      "★★★     Shawarma\n",
      " a shawarma from a food truck. you can hit someone with it\n",
      " \n",
      "★★★     Shawarma\n",
      " a shawarma from a food truck. you can hit someone with it\n",
      " \n",
      "★★★     burnt water\n",
      " NAH BRO IM OUT HOW  \n",
      " \n",
      "★★★     french fries\n",
      " how tf are you stabbing people with a fr- nvm just dont give me your food ever \n",
      " \n"
     ]
    }
   ],
   "source": [
    "roll(10, True)"
   ]
  },
  {
   "cell_type": "code",
   "execution_count": 52,
   "id": "b5eb86a5",
   "metadata": {},
   "outputs": [
    {
     "name": "stdout",
     "output_type": "stream",
     "text": [
      "0\n",
      "Bag\n"
     ]
    }
   ],
   "source": [
    "inv_list()"
   ]
  },
  {
   "cell_type": "code",
   "execution_count": null,
   "id": "bb4e762d",
   "metadata": {},
   "outputs": [],
   "source": []
  },
  {
   "cell_type": "code",
   "execution_count": null,
   "id": "2e12dc02",
   "metadata": {},
   "outputs": [],
   "source": []
  }
 ],
 "metadata": {
  "kernelspec": {
   "display_name": "Python 3 (ipykernel)",
   "language": "python",
   "name": "python3"
  },
  "language_info": {
   "codemirror_mode": {
    "name": "ipython",
    "version": 3
   },
   "file_extension": ".py",
   "mimetype": "text/x-python",
   "name": "python",
   "nbconvert_exporter": "python",
   "pygments_lexer": "ipython3",
   "version": "3.9.12"
  }
 },
 "nbformat": 4,
 "nbformat_minor": 5
}
